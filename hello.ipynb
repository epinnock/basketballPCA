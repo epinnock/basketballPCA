{
 "cells": [
  {
   "cell_type": "markdown",
   "metadata": {},
   "source": [
    "# Step 1."
   ]
  },
  {
   "cell_type": "markdown",
   "metadata": {},
   "source": [
    "Import pandas and other necessary libraries and read the team data ('data.csv') into a pandas dataframe notice that the teams that make the playoffs are marked with an asterisk (*) while teams that don't make the playoffs are not"
   ]
  },
  {
   "cell_type": "code",
   "execution_count": 4,
   "metadata": {},
   "outputs": [],
   "source": [
    "import pandas as pd\n",
    "import matplotlib as plt\n",
    "\n",
    "team_df=pd.Series([7, 'Heisenberg', 3.14, -1789710578, 'Happy Eating!'])\n",
    "team_df=pd.read_csv('data.csv')\n",
    "\n",
    "print team_df\n",
    "print 'hello'"
   ]
  },
  {
   "cell_type": "markdown",
   "metadata": {},
   "source": [
    "Step 2.\n",
    "\n",
    "import the team's opponent data ('oponnent_data.csv') strip it of the team name column, and rename the remaining columns by adding (Opp) as a prefix, so that it can be combine with the previous dataframe"
   ]
  },
  {
   "cell_type": "code",
   "execution_count": 5,
   "metadata": {},
   "outputs": [
    {
     "name": "stdout",
     "output_type": "stream",
     "text": [
      "['OppRk' 'OppG' 'OppMP' 'OppFG' 'OppFGA' 'OppFG%' 'Opp3P' 'Opp3PA'\n",
      " 'Opp3P.1' 'Opp2P' 'Opp2PA' 'Opp2P.1' 'OppFT' 'OppFTA' 'OppFT%' 'OppORB'\n",
      " 'OppDRB' 'OppTRB' 'OppAST' 'OppSTL' 'OppBLK' 'OppTOV' 'OppPF' 'OppPTS'\n",
      " 'OppPTS/G']\n"
     ]
    }
   ],
   "source": [
    "opponent_df=pd.read_csv('opponent_data.csv')\n",
    "opponent_df=opponent_df.drop('Team',1) #drop the team name column\n",
    "myheaders=opponent_df.columns.values\n",
    "for i in range(len(myheaders)):\n",
    "    myheaders[i]='Opp'+myheaders[i]\n",
    "opponent_df.columns=myheaders\n",
    "print opponent_df.columns.values"
   ]
  },
  {
   "cell_type": "code",
   "execution_count": 6,
   "metadata": {},
   "outputs": [
    {
     "name": "stdout",
     "output_type": "stream",
     "text": [
      "['Rk' 'Team' 'G' 'MP' 'FG' 'FGA' 'FG%' '3P' '3PA' '3P.1' '2P' '2PA' '2P.1'\n",
      " 'FT' 'FTA' 'FT%' 'ORB' 'DRB' 'TRB' 'AST' 'STL' 'BLK' 'TOV' 'PF' 'PTS'\n",
      " 'PTS/G' 'OppRk' 'OppG' 'OppMP' 'OppFG' 'OppFGA' 'OppFG%' 'Opp3P' 'Opp3PA'\n",
      " 'Opp3P.1' 'Opp2P' 'Opp2PA' 'Opp2P.1' 'OppFT' 'OppFTA' 'OppFT%' 'OppORB'\n",
      " 'OppDRB' 'OppTRB' 'OppAST' 'OppSTL' 'OppBLK' 'OppTOV' 'OppPF' 'OppPTS'\n",
      " 'OppPTS/G']\n"
     ]
    }
   ],
   "source": [
    "full_team_df=pd.concat([team_df,opponent_df],axis=1)\n",
    "print full_team_df.columns.values"
   ]
  },
  {
   "cell_type": "code",
   "execution_count": 7,
   "metadata": {},
   "outputs": [
    {
     "name": "stdout",
     "output_type": "stream",
     "text": [
      "['Golden State Warriors*', 'Los Angeles Clippers*', 'Dallas Mavericks*', 'Oklahoma City Thunder', 'Toronto Raptors*', 'Houston Rockets*', 'San Antonio Spurs*', 'Cleveland Cavaliers*', 'Portland Trail Blazers*', 'Atlanta Hawks*', 'Phoenix Suns', 'Denver Nuggets', 'Boston Celtics*', 'Sacramento Kings', 'Chicago Bulls*', 'New Orleans Pelicans*', 'Los Angeles Lakers', 'Washington Wizards*', 'Detroit Pistons', 'Memphis Grizzlies*', 'Brooklyn Nets*', 'Milwaukee Bucks*', 'Minnesota Timberwolves', 'Indiana Pacers', 'Orlando Magic', 'Utah Jazz', 'Miami Heat', 'Charlotte Hornets', 'Philadelphia 76ers', 'New York Knicks', 'League Average']\n"
     ]
    }
   ],
   "source": [
    "teamnames=full_team_df['Team'].tolist()\n",
    "print teamnames"
   ]
  },
  {
   "cell_type": "code",
   "execution_count": 24,
   "metadata": {},
   "outputs": [
    {
     "name": "stdout",
     "output_type": "stream",
     "text": [
      "[ 0.478  0.446]\n"
     ]
    }
   ],
   "source": [
    "import numpy as np\n",
    "datasubset=full_team_df[[ 'FG%' ,'OppFG%'\n",
    " ]]\n",
    "np_array= np.array(datasubset)\n",
    "print np_array[0]"
   ]
  },
  {
   "cell_type": "code",
   "execution_count": 25,
   "metadata": {},
   "outputs": [],
   "source": [
    "from matplotlib import pyplot as plt\n",
    "from sklearn.decomposition import PCA as sklearnPCA\n",
    "\n",
    "my_sk_pca=sklearnPCA(n_components=2)\n",
    "sklearn_transf=my_sk_pca.fit_transform(np_array)\n",
    "plt.scatter(sklearn_transf[:,0],sklearn_transf[:,1])\n",
    "for i in range(len(teamnames)):\n",
    "    plt.annotate(teamnames[i],(sklearn_transf[i,0],sklearn_transf[i,1]))\n",
    "plt.show()"
   ]
  },
  {
   "cell_type": "code",
   "execution_count": 29,
   "metadata": {},
   "outputs": [
    {
     "ename": "TypeError",
     "evalue": "expected string or buffer",
     "output_type": "error",
     "traceback": [
      "\u001b[1;31m---------------------------------------------------------------------------\u001b[0m",
      "\u001b[1;31mTypeError\u001b[0m                                 Traceback (most recent call last)",
      "\u001b[1;32m<ipython-input-29-e5582c56af33>\u001b[0m in \u001b[0;36m<module>\u001b[1;34m()\u001b[0m\n\u001b[0;32m      1\u001b[0m \u001b[1;32mimport\u001b[0m \u001b[0mjson\u001b[0m\u001b[1;33m\u001b[0m\u001b[0m\n\u001b[0;32m      2\u001b[0m \u001b[1;33m\u001b[0m\u001b[0m\n\u001b[1;32m----> 3\u001b[1;33m \u001b[0mmyjsonresp\u001b[0m\u001b[1;33m=\u001b[0m\u001b[0mjson\u001b[0m\u001b[1;33m.\u001b[0m\u001b[0mloads\u001b[0m\u001b[1;33m(\u001b[0m\u001b[0mopen\u001b[0m\u001b[1;33m(\u001b[0m\u001b[1;34m'nba_players.json'\u001b[0m\u001b[1;33m)\u001b[0m\u001b[1;33m)\u001b[0m\u001b[1;33m\u001b[0m\u001b[0m\n\u001b[0m\u001b[0;32m      4\u001b[0m \u001b[1;32mprint\u001b[0m \u001b[0mmyjsonresp\u001b[0m\u001b[1;33m\u001b[0m\u001b[0m\n\u001b[0;32m      5\u001b[0m \u001b[1;33m\u001b[0m\u001b[0m\n",
      "\u001b[1;32mC:\\Python27\\lib\\json\\__init__.pyc\u001b[0m in \u001b[0;36mloads\u001b[1;34m(s, encoding, cls, object_hook, parse_float, parse_int, parse_constant, object_pairs_hook, **kw)\u001b[0m\n\u001b[0;32m    336\u001b[0m             \u001b[0mparse_int\u001b[0m \u001b[1;32mis\u001b[0m \u001b[0mNone\u001b[0m \u001b[1;32mand\u001b[0m \u001b[0mparse_float\u001b[0m \u001b[1;32mis\u001b[0m \u001b[0mNone\u001b[0m \u001b[1;32mand\u001b[0m\u001b[1;33m\u001b[0m\u001b[0m\n\u001b[0;32m    337\u001b[0m             parse_constant is None and object_pairs_hook is None and not kw):\n\u001b[1;32m--> 338\u001b[1;33m         \u001b[1;32mreturn\u001b[0m \u001b[0m_default_decoder\u001b[0m\u001b[1;33m.\u001b[0m\u001b[0mdecode\u001b[0m\u001b[1;33m(\u001b[0m\u001b[0ms\u001b[0m\u001b[1;33m)\u001b[0m\u001b[1;33m\u001b[0m\u001b[0m\n\u001b[0m\u001b[0;32m    339\u001b[0m     \u001b[1;32mif\u001b[0m \u001b[0mcls\u001b[0m \u001b[1;32mis\u001b[0m \u001b[0mNone\u001b[0m\u001b[1;33m:\u001b[0m\u001b[1;33m\u001b[0m\u001b[0m\n\u001b[0;32m    340\u001b[0m         \u001b[0mcls\u001b[0m \u001b[1;33m=\u001b[0m \u001b[0mJSONDecoder\u001b[0m\u001b[1;33m\u001b[0m\u001b[0m\n",
      "\u001b[1;32mC:\\Python27\\lib\\json\\decoder.pyc\u001b[0m in \u001b[0;36mdecode\u001b[1;34m(self, s, _w)\u001b[0m\n\u001b[0;32m    364\u001b[0m \u001b[1;33m\u001b[0m\u001b[0m\n\u001b[0;32m    365\u001b[0m         \"\"\"\n\u001b[1;32m--> 366\u001b[1;33m         \u001b[0mobj\u001b[0m\u001b[1;33m,\u001b[0m \u001b[0mend\u001b[0m \u001b[1;33m=\u001b[0m \u001b[0mself\u001b[0m\u001b[1;33m.\u001b[0m\u001b[0mraw_decode\u001b[0m\u001b[1;33m(\u001b[0m\u001b[0ms\u001b[0m\u001b[1;33m,\u001b[0m \u001b[0midx\u001b[0m\u001b[1;33m=\u001b[0m\u001b[0m_w\u001b[0m\u001b[1;33m(\u001b[0m\u001b[0ms\u001b[0m\u001b[1;33m,\u001b[0m \u001b[1;36m0\u001b[0m\u001b[1;33m)\u001b[0m\u001b[1;33m.\u001b[0m\u001b[0mend\u001b[0m\u001b[1;33m(\u001b[0m\u001b[1;33m)\u001b[0m\u001b[1;33m)\u001b[0m\u001b[1;33m\u001b[0m\u001b[0m\n\u001b[0m\u001b[0;32m    367\u001b[0m         \u001b[0mend\u001b[0m \u001b[1;33m=\u001b[0m \u001b[0m_w\u001b[0m\u001b[1;33m(\u001b[0m\u001b[0ms\u001b[0m\u001b[1;33m,\u001b[0m \u001b[0mend\u001b[0m\u001b[1;33m)\u001b[0m\u001b[1;33m.\u001b[0m\u001b[0mend\u001b[0m\u001b[1;33m(\u001b[0m\u001b[1;33m)\u001b[0m\u001b[1;33m\u001b[0m\u001b[0m\n\u001b[0;32m    368\u001b[0m         \u001b[1;32mif\u001b[0m \u001b[0mend\u001b[0m \u001b[1;33m!=\u001b[0m \u001b[0mlen\u001b[0m\u001b[1;33m(\u001b[0m\u001b[0ms\u001b[0m\u001b[1;33m)\u001b[0m\u001b[1;33m:\u001b[0m\u001b[1;33m\u001b[0m\u001b[0m\n",
      "\u001b[1;31mTypeError\u001b[0m: expected string or buffer"
     ]
    }
   ],
   "source": [
    ""
   ]
  },
  {
   "cell_type": "code",
   "execution_count": null,
   "metadata": {},
   "outputs": [],
   "source": [
    ""
   ]
  }
 ],
 "metadata": {
  "kernelspec": {
   "display_name": "Python 2",
   "language": "python",
   "name": "python2"
  },
  "language_info": {
   "codemirror_mode": {
    "name": "ipython",
    "version": 2.0
   },
   "file_extension": ".py",
   "mimetype": "text/x-python",
   "name": "python",
   "nbconvert_exporter": "python",
   "pygments_lexer": "ipython2",
   "version": "2.7.8"
  }
 },
 "nbformat": 4,
 "nbformat_minor": 0
}