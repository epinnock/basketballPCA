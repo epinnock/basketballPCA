{
 "cells": [
  {
   "cell_type": "markdown",
   "metadata": {},
   "source": [
    "# Step 1."
   ]
  },
  {
   "cell_type": "markdown",
   "metadata": {},
   "source": [
    "Import pandas and other necessary libraries and read the team data ('data.csv') into a pandas dataframe notice that the teams that make the playoffs are marked with an asterisk (*) while teams that don't make the playoffs are not"
   ]
  },
  {
   "cell_type": "code",
   "execution_count": 4,
   "metadata": {
    "collapsed": false
   },
   "outputs": [
    {
     "name": "stdout",
     "output_type": "stream",
     "text": [
      "    Rk                     Team   G     MP    FG   FGA    FG%   3P   3PA  \\\n",
      "0    1   Golden State Warriors*  82  19730  3410  7137  0.478  883  2217   \n",
      "1    2    Los Angeles Clippers*  82  19730  3228  6830  0.473  827  2202   \n",
      "2    3        Dallas Mavericks*  82  19880  3255  7036  0.463  732  2082   \n",
      "3    4    Oklahoma City Thunder  82  19830  3184  7119  0.447  632  1864   \n",
      "4    5         Toronto Raptors*  82  19855  3108  6829  0.455  726  2060   \n",
      "5    6         Houston Rockets*  82  19805  3032  6832  0.444  933  2680   \n",
      "6    7       San Antonio Spurs*  82  19955  3208  6854  0.468  677  1847   \n",
      "7    8     Cleveland Cavaliers*  82  19780  3089  6739  0.458  826  2253   \n",
      "8    9  Portland Trail Blazers*  82  19855  3175  7049  0.450  807  2231   \n",
      "9   10           Atlanta Hawks*  82  19730  3121  6699  0.466  818  2152   \n",
      "10  11             Phoenix Suns  82  19880  3178  7038  0.452  698  2048   \n",
      "11  12           Denver Nuggets  82  19880  3099  7158  0.433  660  2032   \n",
      "12  13          Boston Celtics*  82  19880  3193  7211  0.443  660  2021   \n",
      "13  14         Sacramento Kings  82  19855  3010  6617  0.455  461  1350   \n",
      "14  15           Chicago Bulls*  82  19880  3001  6797  0.442  645  1825   \n",
      "15  16    New Orleans Pelicans*  82  19780  3108  6795  0.457  586  1583   \n",
      "16  17       Los Angeles Lakers  82  19930  3054  7020  0.435  532  1546   \n",
      "17  18      Washington Wizards*  82  19955  3139  6790  0.462  497  1381   \n",
      "18  19          Detroit Pistons  82  19830  3041  7038  0.432  703  2043   \n",
      "19  20       Memphis Grizzlies*  82  19905  3097  6763  0.458  423  1246   \n",
      "20  21           Brooklyn Nets*  82  19930  3069  6804  0.451  541  1633   \n",
      "21  22         Milwaukee Bucks*  82  19930  3083  6722  0.459  545  1500   \n",
      "22  23   Minnesota Timberwolves  82  19805  2986  6820  0.438  406  1223   \n",
      "23  24           Indiana Pacers  82  19855  2998  6824  0.439  612  1740   \n",
      "24  25            Orlando Magic  82  19755  3076  6792  0.453  554  1598   \n",
      "25  26                Utah Jazz  82  19705  2900  6492  0.447  610  1781   \n",
      "26  27               Miami Heat  82  19730  2885  6330  0.456  556  1659   \n",
      "27  28        Charlotte Hornets  82  19905  2913  6932  0.420  498  1566   \n",
      "28  29       Philadelphia 76ers  82  19805  2765  6777  0.408  692  2160   \n",
      "29  30          New York Knicks  82  19855  2882  6726  0.428  560  1614   \n",
      "30 NaN           League Average  82  19840  3076  6852  0.449  643  1838   \n",
      "\n",
      "     3P.1  ...     ORB   DRB   TRB   AST  STL  BLK   TOV    PF   PTS  PTS/G  \n",
      "0   0.398  ...     853  2814  3667  2248  762  496  1185  1628  9016  110.0  \n",
      "1   0.376  ...     784  2711  3495  2031  640  409  1012  1749  8751  106.7  \n",
      "2   0.352  ...     858  2608  3466  1846  663  371  1062  1644  8628  105.2  \n",
      "3   0.339  ...    1052  2844  3896  1681  598  454  1205  1829  8524  104.0  \n",
      "4   0.352  ...     881  2526  3407  1701  615  357  1057  1712  8527  104.0  \n",
      "5   0.348  ...     958  2624  3582  1820  777  407  1366  1803  8522  103.9  \n",
      "6   0.367  ...     806  2772  3578  2000  657  444  1146  1564  8461  103.2  \n",
      "7   0.367  ...     911  2612  3523  1814  603  340  1171  1510  8457  103.1  \n",
      "8   0.362  ...     879  2881  3760  1799  525  372  1117  1494  8429  102.8  \n",
      "9   0.380  ...     715  2611  3326  2111  744  380  1167  1457  8409  102.5  \n",
      "10  0.341  ...     896  2643  3539  1659  700  385  1238  1744  8397  102.4  \n",
      "11  0.325  ...    1012  2653  3665  1788  641  367  1166  1882  8320  101.5  \n",
      "12  0.327  ...     910  2685  3595  2009  674  294  1133  1738  8312  101.4  \n",
      "13  0.341  ...     895  2728  3623  1667  550  324  1333  1696  8310  101.3  \n",
      "14  0.353  ...     959  2792  3751  1781  514  476  1145  1495  8265  100.8  \n",
      "15  0.370  ...     942  2621  3563  1806  553  510  1087  1530  8147   99.4  \n",
      "16  0.344  ...     952  2647  3599  1715  578  366  1086  1741  8073   98.5  \n",
      "17  0.360  ...     862  2801  3663  1969  601  378  1233  1707  8080   98.5  \n",
      "18  0.344  ...    1051  2630  3681  1771  623  383  1099  1559  8077   98.5  \n",
      "19  0.339  ...     856  2634  3490  1777  700  347  1094  1567  8062   98.3  \n",
      "20  0.331  ...     846  2627  3473  1716  576  340  1133  1579  8038   98.0  \n",
      "21  0.363  ...     876  2574  3450  1932  789  403  1373  1814  8023   97.8  \n",
      "22  0.332  ...     949  2406  3355  1771  668  327  1231  1571  8016   97.8  \n",
      "23  0.352  ...     856  2822  3678  1757  505  375  1147  1742  7981   97.3  \n",
      "24  0.347  ...     822  2607  3429  1692  647  314  1221  1714  7847   95.7  \n",
      "25  0.343  ...     988  2617  3605  1632  623  489  1256  1583  7801   95.1  \n",
      "26  0.335  ...     747  2461  3208  1626  642  372  1214  1636  7764   94.7  \n",
      "27  0.318  ...     820  2793  3613  1654  499  448   976  1494  7721   94.2  \n",
      "28  0.320  ...     978  2536  3514  1683  789  487  1453  1778  7542   92.0  \n",
      "29  0.347  ...     867  2443  3310  1746  575  382  1206  1768  7535   91.9  \n",
      "30  0.350  ...     893  2657  3550  1807  634  393  1177  1658  8201  100.0  \n",
      "\n",
      "[31 rows x 26 columns]\n"
     ]
    }
   ],
   "source": [
    "import pandas as pd\n",
    "import matplotlib as plt\n",
    "\n",
    "team_df=pd.Series([7, 'Heisenberg', 3.14, -1789710578, 'Happy Eating!'])\n",
    "team_df=pd.read_csv('data.csv')\n",
    "\n",
    "print team_df"
   ]
  },
  {
   "cell_type": "markdown",
   "metadata": {},
   "source": [
    "Step 2.\n",
    "\n",
    "import the team's opponent data ('oponnent_data.csv') strip it of the team name column, and rename the remaining columns by adding (Opp) as a prefix, so that it can be combine with the previous dataframe"
   ]
  },
  {
   "cell_type": "code",
   "execution_count": 5,
   "metadata": {
    "collapsed": false
   },
   "outputs": [
    {
     "name": "stdout",
     "output_type": "stream",
     "text": [
      "['OppRk' 'OppG' 'OppMP' 'OppFG' 'OppFGA' 'OppFG%' 'Opp3P' 'Opp3PA'\n",
      " 'Opp3P.1' 'Opp2P' 'Opp2PA' 'Opp2P.1' 'OppFT' 'OppFTA' 'OppFT%' 'OppORB'\n",
      " 'OppDRB' 'OppTRB' 'OppAST' 'OppSTL' 'OppBLK' 'OppTOV' 'OppPF' 'OppPTS'\n",
      " 'OppPTS/G']\n"
     ]
    }
   ],
   "source": [
    "opponent_df=pd.read_csv('opponent_data.csv')\n",
    "opponent_df=opponent_df.drop('Team',1) #drop the team name column\n",
    "myheaders=opponent_df.columns.values\n",
    "for i in range(len(myheaders)):\n",
    "    myheaders[i]='Opp'+myheaders[i]\n",
    "opponent_df.columns=myheaders\n",
    "print opponent_df.columns.values"
   ]
  },
  {
   "cell_type": "code",
   "execution_count": 6,
   "metadata": {
    "collapsed": false
   },
   "outputs": [
    {
     "name": "stdout",
     "output_type": "stream",
     "text": [
      "['Rk' 'Team' 'G' 'MP' 'FG' 'FGA' 'FG%' '3P' '3PA' '3P.1' '2P' '2PA' '2P.1'\n",
      " 'FT' 'FTA' 'FT%' 'ORB' 'DRB' 'TRB' 'AST' 'STL' 'BLK' 'TOV' 'PF' 'PTS'\n",
      " 'PTS/G' 'OppRk' 'OppG' 'OppMP' 'OppFG' 'OppFGA' 'OppFG%' 'Opp3P' 'Opp3PA'\n",
      " 'Opp3P.1' 'Opp2P' 'Opp2PA' 'Opp2P.1' 'OppFT' 'OppFTA' 'OppFT%' 'OppORB'\n",
      " 'OppDRB' 'OppTRB' 'OppAST' 'OppSTL' 'OppBLK' 'OppTOV' 'OppPF' 'OppPTS'\n",
      " 'OppPTS/G']\n"
     ]
    }
   ],
   "source": [
    "full_team_df=pd.concat([team_df,opponent_df],axis=1)\n",
    "print full_team_df.columns.values"
   ]
  },
  {
   "cell_type": "code",
   "execution_count": 7,
   "metadata": {
    "collapsed": false
   },
   "outputs": [
    {
     "name": "stdout",
     "output_type": "stream",
     "text": [
      "['Golden State Warriors*', 'Los Angeles Clippers*', 'Dallas Mavericks*', 'Oklahoma City Thunder', 'Toronto Raptors*', 'Houston Rockets*', 'San Antonio Spurs*', 'Cleveland Cavaliers*', 'Portland Trail Blazers*', 'Atlanta Hawks*', 'Phoenix Suns', 'Denver Nuggets', 'Boston Celtics*', 'Sacramento Kings', 'Chicago Bulls*', 'New Orleans Pelicans*', 'Los Angeles Lakers', 'Washington Wizards*', 'Detroit Pistons', 'Memphis Grizzlies*', 'Brooklyn Nets*', 'Milwaukee Bucks*', 'Minnesota Timberwolves', 'Indiana Pacers', 'Orlando Magic', 'Utah Jazz', 'Miami Heat', 'Charlotte Hornets', 'Philadelphia 76ers', 'New York Knicks', 'League Average']\n"
     ]
    }
   ],
   "source": [
    "teamnames=full_team_df['Team'].tolist()\n",
    "print teamnames"
   ]
  },
  {
   "cell_type": "code",
   "execution_count": 24,
   "metadata": {
    "collapsed": false
   },
   "outputs": [
    {
     "name": "stdout",
     "output_type": "stream",
     "text": [
      "[ 0.478  0.446]\n"
     ]
    }
   ],
   "source": [
    "import numpy as np\n",
    "datasubset=full_team_df[[ 'FG%' ,'OppFG%'\n",
    " ]]\n",
    "np_array= np.array(datasubset)\n",
    "print np_array[0]"
   ]
  },
  {
   "cell_type": "code",
   "execution_count": 25,
   "metadata": {
    "collapsed": false
   },
   "outputs": [],
   "source": [
    "from matplotlib import pyplot as plt\n",
    "from sklearn.decomposition import PCA as sklearnPCA\n",
    "\n",
    "my_sk_pca=sklearnPCA(n_components=2)\n",
    "sklearn_transf=my_sk_pca.fit_transform(np_array)\n",
    "plt.scatter(sklearn_transf[:,0],sklearn_transf[:,1])\n",
    "for i in range(len(teamnames)):\n",
    "    plt.annotate(teamnames[i],(sklearn_transf[i,0],sklearn_transf[i,1]))\n",
    "plt.show()"
   ]
  },
  {
   "cell_type": "code",
   "execution_count": 29,
   "metadata": {
    "collapsed": false
   },
   "outputs": [
    {
     "ename": "TypeError",
     "evalue": "expected string or buffer",
     "output_type": "error",
     "traceback": [
      "\u001b[1;31m---------------------------------------------------------------------------\u001b[0m",
      "\u001b[1;31mTypeError\u001b[0m                                 Traceback (most recent call last)",
      "\u001b[1;32m<ipython-input-29-e5582c56af33>\u001b[0m in \u001b[0;36m<module>\u001b[1;34m()\u001b[0m\n\u001b[0;32m      1\u001b[0m \u001b[1;32mimport\u001b[0m \u001b[0mjson\u001b[0m\u001b[1;33m\u001b[0m\u001b[0m\n\u001b[0;32m      2\u001b[0m \u001b[1;33m\u001b[0m\u001b[0m\n\u001b[1;32m----> 3\u001b[1;33m \u001b[0mmyjsonresp\u001b[0m\u001b[1;33m=\u001b[0m\u001b[0mjson\u001b[0m\u001b[1;33m.\u001b[0m\u001b[0mloads\u001b[0m\u001b[1;33m(\u001b[0m\u001b[0mopen\u001b[0m\u001b[1;33m(\u001b[0m\u001b[1;34m'nba_players.json'\u001b[0m\u001b[1;33m)\u001b[0m\u001b[1;33m)\u001b[0m\u001b[1;33m\u001b[0m\u001b[0m\n\u001b[0m\u001b[0;32m      4\u001b[0m \u001b[1;32mprint\u001b[0m \u001b[0mmyjsonresp\u001b[0m\u001b[1;33m\u001b[0m\u001b[0m\n\u001b[0;32m      5\u001b[0m \u001b[1;33m\u001b[0m\u001b[0m\n",
      "\u001b[1;32mC:\\Python27\\lib\\json\\__init__.pyc\u001b[0m in \u001b[0;36mloads\u001b[1;34m(s, encoding, cls, object_hook, parse_float, parse_int, parse_constant, object_pairs_hook, **kw)\u001b[0m\n\u001b[0;32m    336\u001b[0m             \u001b[0mparse_int\u001b[0m \u001b[1;32mis\u001b[0m \u001b[0mNone\u001b[0m \u001b[1;32mand\u001b[0m \u001b[0mparse_float\u001b[0m \u001b[1;32mis\u001b[0m \u001b[0mNone\u001b[0m \u001b[1;32mand\u001b[0m\u001b[1;33m\u001b[0m\u001b[0m\n\u001b[0;32m    337\u001b[0m             parse_constant is None and object_pairs_hook is None and not kw):\n\u001b[1;32m--> 338\u001b[1;33m         \u001b[1;32mreturn\u001b[0m \u001b[0m_default_decoder\u001b[0m\u001b[1;33m.\u001b[0m\u001b[0mdecode\u001b[0m\u001b[1;33m(\u001b[0m\u001b[0ms\u001b[0m\u001b[1;33m)\u001b[0m\u001b[1;33m\u001b[0m\u001b[0m\n\u001b[0m\u001b[0;32m    339\u001b[0m     \u001b[1;32mif\u001b[0m \u001b[0mcls\u001b[0m \u001b[1;32mis\u001b[0m \u001b[0mNone\u001b[0m\u001b[1;33m:\u001b[0m\u001b[1;33m\u001b[0m\u001b[0m\n\u001b[0;32m    340\u001b[0m         \u001b[0mcls\u001b[0m \u001b[1;33m=\u001b[0m \u001b[0mJSONDecoder\u001b[0m\u001b[1;33m\u001b[0m\u001b[0m\n",
      "\u001b[1;32mC:\\Python27\\lib\\json\\decoder.pyc\u001b[0m in \u001b[0;36mdecode\u001b[1;34m(self, s, _w)\u001b[0m\n\u001b[0;32m    364\u001b[0m \u001b[1;33m\u001b[0m\u001b[0m\n\u001b[0;32m    365\u001b[0m         \"\"\"\n\u001b[1;32m--> 366\u001b[1;33m         \u001b[0mobj\u001b[0m\u001b[1;33m,\u001b[0m \u001b[0mend\u001b[0m \u001b[1;33m=\u001b[0m \u001b[0mself\u001b[0m\u001b[1;33m.\u001b[0m\u001b[0mraw_decode\u001b[0m\u001b[1;33m(\u001b[0m\u001b[0ms\u001b[0m\u001b[1;33m,\u001b[0m \u001b[0midx\u001b[0m\u001b[1;33m=\u001b[0m\u001b[0m_w\u001b[0m\u001b[1;33m(\u001b[0m\u001b[0ms\u001b[0m\u001b[1;33m,\u001b[0m \u001b[1;36m0\u001b[0m\u001b[1;33m)\u001b[0m\u001b[1;33m.\u001b[0m\u001b[0mend\u001b[0m\u001b[1;33m(\u001b[0m\u001b[1;33m)\u001b[0m\u001b[1;33m)\u001b[0m\u001b[1;33m\u001b[0m\u001b[0m\n\u001b[0m\u001b[0;32m    367\u001b[0m         \u001b[0mend\u001b[0m \u001b[1;33m=\u001b[0m \u001b[0m_w\u001b[0m\u001b[1;33m(\u001b[0m\u001b[0ms\u001b[0m\u001b[1;33m,\u001b[0m \u001b[0mend\u001b[0m\u001b[1;33m)\u001b[0m\u001b[1;33m.\u001b[0m\u001b[0mend\u001b[0m\u001b[1;33m(\u001b[0m\u001b[1;33m)\u001b[0m\u001b[1;33m\u001b[0m\u001b[0m\n\u001b[0;32m    368\u001b[0m         \u001b[1;32mif\u001b[0m \u001b[0mend\u001b[0m \u001b[1;33m!=\u001b[0m \u001b[0mlen\u001b[0m\u001b[1;33m(\u001b[0m\u001b[0ms\u001b[0m\u001b[1;33m)\u001b[0m\u001b[1;33m:\u001b[0m\u001b[1;33m\u001b[0m\u001b[0m\n",
      "\u001b[1;31mTypeError\u001b[0m: expected string or buffer"
     ]
    }
   ],
   "source": [
    "\n",
    "\n"
   ]
  },
  {
   "cell_type": "code",
   "execution_count": null,
   "metadata": {
    "collapsed": true
   },
   "outputs": [],
   "source": []
  }
 ],
 "metadata": {
  "kernelspec": {
   "display_name": "Python 2",
   "language": "python",
   "name": "python2"
  },
  "language_info": {
   "codemirror_mode": {
    "name": "ipython",
    "version": 2
   },
   "file_extension": ".py",
   "mimetype": "text/x-python",
   "name": "python",
   "nbconvert_exporter": "python",
   "pygments_lexer": "ipython2",
   "version": "2.7.8"
  }
 },
 "nbformat": 4,
 "nbformat_minor": 0
}
