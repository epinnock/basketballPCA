{
 "cells": [
  {
   "cell_type": "code",
   "execution_count": 88,
   "metadata": {},
   "outputs": [
    {
     "name": "stdout",
     "output_type": "stream",
     "text": [
      "cut\n",
      "handoff\n",
      "isolation\n",
      "misc\n",
      "offrebound\n",
      "offscreen\n",
      "postup\n",
      "PRBallHandler\n",
      "PRRollMan\n",
      "transition\n",
      "         PlayType  Poss  Points\n",
      "22            cut   531     701\n",
      "4         handoff   415     418\n",
      "11      isolation   664     621\n",
      "0            misc   620     338\n",
      "22     offrebound   415     455\n",
      "2       offscreen   551     581\n",
      "9          postup  1640    1725\n",
      "5   PRBallHandler  1388    1246\n",
      "10      PRRollMan   625     621\n",
      "12     transition  1179    1404\n",
      "[22     0.066143\n",
      "4      0.051694\n",
      "11     0.082711\n",
      "0      0.077230\n",
      "22     0.051694\n",
      "2      0.068635\n",
      "9      0.204285\n",
      "5      0.172895\n",
      "10     0.077853\n",
      "12     0.146861\n",
      "247    1.000000\n",
      "Name: Poss, dtype: float64]\n",
      "[22     0.086436\n",
      "4      0.051541\n",
      "11     0.076572\n",
      "0      0.041677\n",
      "22     0.056104\n",
      "2      0.071640\n",
      "9      0.212700\n",
      "5      0.153637\n",
      "10     0.076572\n",
      "12     0.173120\n",
      "247    1.000000\n",
      "Name: Points, dtype: float64]\n",
      "          PlayType  Poss  Points  Poss Percentage  Points Percentage       PPP\n",
      "22             cut   531     701         0.066143           0.086436  1.320151\n",
      "4          handoff   415     418         0.051694           0.051541  1.007229\n",
      "11       isolation   664     621         0.082711           0.076572  0.935241\n",
      "0             misc   620     338         0.077230           0.041677  0.545161\n",
      "22      offrebound   415     455         0.051694           0.056104  1.096386\n",
      "2        offscreen   551     581         0.068635           0.071640  1.054446\n",
      "9           postup  1640    1725         0.204285           0.212700  1.051829\n",
      "5    PRBallHandler  1388    1246         0.172895           0.153637  0.897695\n",
      "10       PRRollMan   625     621         0.077853           0.076572  0.993600\n",
      "12      transition  1179    1404         0.146861           0.173120  1.190840\n",
      "247          Total  8028    8110         1.000000           1.000000  1.010214\n"
     ]
    }
   ],
   "source": [
    "import json\n",
    "import pandas as pd\n",
    "import numpy as np\n",
    "import os\n",
    "\n",
    "\n",
    "df_list=[]\n",
    "\n",
    "for item in os.listdir('playtypes'):\n",
    "    play_type= item.replace('.json','')\n",
    "    print play_type\n",
    "    file_path='playtypes/%s'%item\n",
    "    temp_json=json.loads(open(file_path).read())\n",
    "    headers=temp_json['resultSets'][0]['headers']\n",
    "    temp_df=pd.DataFrame(temp_json['resultSets'][0]['rowSet'],columns=headers)\n",
    "    temp_df['PlayType']=play_type\n",
    "    df_list.append(temp_df)\n",
    "\n",
    "playtypedf=pd.concat(df_list)\n",
    "lakers= playtypedf[playtypedf.TeamShortName=='Clippers'][['PlayType','Poss','Points']]\n",
    "print lakers\n",
    "total_poss=lakers['Poss'].sum()\n",
    "total_points=lakers['Points'].sum()\n",
    "lakers.loc[247]=['Total',total_poss,total_points]\n",
    "print [lakers['Poss']/total_poss]\n",
    "print [lakers['Points']/total_points]\n",
    "lakers['Poss Percentage']=lakers['Poss']/total_poss\n",
    "lakers['Points Percentage']=lakers['Points']/total_points\n",
    "lakers['PPP']=lakers['Points']/lakers['Poss']\n",
    "print lakers"
   ]
  },
  {
   "cell_type": "code",
   "execution_count": 90,
   "metadata": {},
   "outputs": [],
   "source": [
    "def getTeamData(team):\n",
    "    myteam=playtypedf[playtypedf.TeamShortName==team][['PlayType','Poss','Points','BetterPPP']]\n",
    "    total_poss=myteam['Poss'].sum()\n",
    "    total_points=myteam['Points'].sum()\n",
    "    myteam.loc[247]=['Total',total_poss,total_points,0]\n",
    "    myteam['Points Perc']=myteam['Points']/total_points\n",
    "    myteam['Poss Perc']=myteam['Poss']/total_points\n",
    "    myteam['PPP']=myteam['Points']/myteam['Poss']\n",
    "    myteam['PPP Rank']=myteam['BetterPPP']+1\n",
    "    try:\n",
    "        myteam.drop('BetterPPP',inplace=True,axis=1)\n",
    "    except:\n",
    "        pass\n",
    "    return myteam.sort(['Poss'],ascending=True)\n",
    "for team in playtypedf['TeamShortName'][:30]:\n",
    "    print team\n",
    "    print getTeamData(team)\n",
    "    print '\\n'"
   ]
  },
  {
   "cell_type": "code",
   "execution_count": 110,
   "metadata": {},
   "outputs": [
    {
     "name": "stdout",
     "output_type": "stream",
     "text": [
      "          PlayType    Poss  Points  Poss Perc  Points Perc       PPP\n",
      "5             misc   16403    7971   0.067996     0.035404  0.485948\n",
      "7    PRBallHandler   40220   31535   0.166726     0.140065  0.784063\n",
      "6        isolation   20323   17049   0.084246     0.075725  0.838902\n",
      "0          handoff   10058    8687   0.041694     0.038584  0.863691\n",
      "1        offscreen   13510   12209   0.056004     0.054227  0.903701\n",
      "247          Total  241234  225145   1.000000     1.000000  0.933305\n",
      "9           postup   50697   49377   0.210157     0.219312  0.973963\n",
      "2        PRRollMan   17967   17547   0.074480     0.077936  0.976624\n",
      "3       offrebound   15306   16443   0.063449     0.073033  1.074285\n",
      "8       transition   36576   40411   0.151620     0.179489  1.104850\n",
      "4              cut   20174   23916   0.083628     0.106225  1.185486\n"
     ]
    }
   ],
   "source": [
    "playtypes=['handoff','offscreen','PRRollMan','offrebound','cut','misc','isolation','PRBallHandler','transition','postup']\n",
    "i=0\n",
    "stuff=[]\n",
    "for play in playtypes:\n",
    "    stuff.append([play,playtypedf[playtypedf.PlayType==play][['Poss']].sum()[0],playtypedf[playtypedf.PlayType==play][['Points']].sum()[0]])\n",
    "  \n",
    "league_average_df=pd.DataFrame(stuff,columns=['PlayType','Poss','Points'])\n",
    "total_poss=league_average_df['Poss'].sum()\n",
    "total_points=league_average_df['Points'].sum()\n",
    "league_average_df.loc[247]=['Total',total_poss,total_points]\n",
    "league_average_df['Poss Perc']=league_average_df['Poss']/total_poss\n",
    "league_average_df['Points Perc']=league_average_df['Points']/total_points\n",
    "league_average_df['PPP']=league_average_df['Points']/league_average_df['Poss']\n",
    "print league_average_df.sort(['PPP'],ascending=True)"
   ]
  },
  {
   "cell_type": "code",
   "execution_count": 111,
   "metadata": {},
   "outputs": [
    {
     "name": "stdout",
     "output_type": "stream",
     "text": [
      "         PlayType  Poss  Points  BetterPPP\n",
      "1             cut   868    1102          3\n",
      "10        handoff   322     310          2\n",
      "17      isolation   571     516          2\n",
      "15           misc   588     262         23\n",
      "17     offrebound   499     521         19\n",
      "0       offscreen   791     743          5\n",
      "11         postup  1568    1715          0\n",
      "24  PRBallHandler  1052     889          1\n",
      "13      PRRollMan   583     573         15\n",
      "0      transition  1649    1912          4\n"
     ]
    }
   ],
   "source": [
    "print playtypedf[playtypedf.TeamShortName=='Warriors'][['PlayType','Poss','Points','BetterPPP']]"
   ]
  },
  {
   "cell_type": "code",
   "execution_count": null,
   "metadata": {},
   "outputs": [],
   "source": [
    ""
   ]
  }
 ],
 "metadata": {
  "kernelspec": {
   "display_name": "Python 2",
   "language": "python",
   "name": "python2"
  },
  "language_info": {
   "codemirror_mode": {
    "name": "ipython",
    "version": 2.0
   },
   "file_extension": ".py",
   "mimetype": "text/x-python",
   "name": "python",
   "nbconvert_exporter": "python",
   "pygments_lexer": "ipython2",
   "version": "2.7.8"
  }
 },
 "nbformat": 4,
 "nbformat_minor": 0
}